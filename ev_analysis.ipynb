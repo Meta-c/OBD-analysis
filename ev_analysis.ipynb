{
 "cells": [
  {
   "cell_type": "code",
   "execution_count": 75,
   "metadata": {},
   "outputs": [],
   "source": [
    "import pandas as pd\n",
    "import numpy as np \n",
    "import matplotlib.pyplot as plt \n",
    "import tensorflow as tf"
   ]
  },
  {
   "attachments": {},
   "cell_type": "markdown",
   "metadata": {},
   "source": [
    "## This is a dataset of electric vehicles.\n",
    "\n",
    "Some basic tasks would include\n",
    "\n",
    "* Which car has the fastest 0-100 acceleration?\n",
    "* Which has the highest efficiency?\n",
    "* Does a difference in power train effect the range, top speed, efficiency?\n",
    "* Which manufacturer has the most number of vehicles?\n",
    "* How does price relate to rapid charging?\n"
   ]
  },
  {
   "cell_type": "code",
   "execution_count": 76,
   "metadata": {},
   "outputs": [
    {
     "data": {
      "text/html": [
       "<div>\n",
       "<style scoped>\n",
       "    .dataframe tbody tr th:only-of-type {\n",
       "        vertical-align: middle;\n",
       "    }\n",
       "\n",
       "    .dataframe tbody tr th {\n",
       "        vertical-align: top;\n",
       "    }\n",
       "\n",
       "    .dataframe thead th {\n",
       "        text-align: right;\n",
       "    }\n",
       "</style>\n",
       "<table border=\"1\" class=\"dataframe\">\n",
       "  <thead>\n",
       "    <tr style=\"text-align: right;\">\n",
       "      <th></th>\n",
       "      <th>Brand</th>\n",
       "      <th>Model</th>\n",
       "      <th>AccelSec</th>\n",
       "      <th>TopSpeed_KmH</th>\n",
       "      <th>Range_Km</th>\n",
       "      <th>Efficiency_WhKm</th>\n",
       "      <th>FastCharge_KmH</th>\n",
       "      <th>RapidCharge</th>\n",
       "      <th>PowerTrain</th>\n",
       "      <th>PlugType</th>\n",
       "      <th>BodyStyle</th>\n",
       "      <th>Segment</th>\n",
       "      <th>Seats</th>\n",
       "      <th>PriceEuro</th>\n",
       "    </tr>\n",
       "  </thead>\n",
       "  <tbody>\n",
       "    <tr>\n",
       "      <th>0</th>\n",
       "      <td>Tesla</td>\n",
       "      <td>Model 3 Long Range Dual Motor</td>\n",
       "      <td>4.6</td>\n",
       "      <td>233</td>\n",
       "      <td>450</td>\n",
       "      <td>161</td>\n",
       "      <td>940</td>\n",
       "      <td>Yes</td>\n",
       "      <td>AWD</td>\n",
       "      <td>Type 2 CCS</td>\n",
       "      <td>Sedan</td>\n",
       "      <td>D</td>\n",
       "      <td>5</td>\n",
       "      <td>55480</td>\n",
       "    </tr>\n",
       "    <tr>\n",
       "      <th>1</th>\n",
       "      <td>Volkswagen</td>\n",
       "      <td>ID.3 Pure</td>\n",
       "      <td>10.0</td>\n",
       "      <td>160</td>\n",
       "      <td>270</td>\n",
       "      <td>167</td>\n",
       "      <td>250</td>\n",
       "      <td>Yes</td>\n",
       "      <td>RWD</td>\n",
       "      <td>Type 2 CCS</td>\n",
       "      <td>Hatchback</td>\n",
       "      <td>C</td>\n",
       "      <td>5</td>\n",
       "      <td>30000</td>\n",
       "    </tr>\n",
       "    <tr>\n",
       "      <th>2</th>\n",
       "      <td>Polestar</td>\n",
       "      <td>2</td>\n",
       "      <td>4.7</td>\n",
       "      <td>210</td>\n",
       "      <td>400</td>\n",
       "      <td>181</td>\n",
       "      <td>620</td>\n",
       "      <td>Yes</td>\n",
       "      <td>AWD</td>\n",
       "      <td>Type 2 CCS</td>\n",
       "      <td>Liftback</td>\n",
       "      <td>D</td>\n",
       "      <td>5</td>\n",
       "      <td>56440</td>\n",
       "    </tr>\n",
       "    <tr>\n",
       "      <th>3</th>\n",
       "      <td>BMW</td>\n",
       "      <td>iX3</td>\n",
       "      <td>6.8</td>\n",
       "      <td>180</td>\n",
       "      <td>360</td>\n",
       "      <td>206</td>\n",
       "      <td>560</td>\n",
       "      <td>Yes</td>\n",
       "      <td>RWD</td>\n",
       "      <td>Type 2 CCS</td>\n",
       "      <td>SUV</td>\n",
       "      <td>D</td>\n",
       "      <td>5</td>\n",
       "      <td>68040</td>\n",
       "    </tr>\n",
       "    <tr>\n",
       "      <th>4</th>\n",
       "      <td>Honda</td>\n",
       "      <td>e</td>\n",
       "      <td>9.5</td>\n",
       "      <td>145</td>\n",
       "      <td>170</td>\n",
       "      <td>168</td>\n",
       "      <td>190</td>\n",
       "      <td>Yes</td>\n",
       "      <td>RWD</td>\n",
       "      <td>Type 2 CCS</td>\n",
       "      <td>Hatchback</td>\n",
       "      <td>B</td>\n",
       "      <td>4</td>\n",
       "      <td>32997</td>\n",
       "    </tr>\n",
       "  </tbody>\n",
       "</table>\n",
       "</div>"
      ],
      "text/plain": [
       "         Brand                          Model  AccelSec  TopSpeed_KmH  \\\n",
       "0       Tesla   Model 3 Long Range Dual Motor       4.6           233   \n",
       "1  Volkswagen                       ID.3 Pure      10.0           160   \n",
       "2    Polestar                               2       4.7           210   \n",
       "3         BMW                            iX3        6.8           180   \n",
       "4       Honda                              e        9.5           145   \n",
       "\n",
       "   Range_Km  Efficiency_WhKm FastCharge_KmH RapidCharge PowerTrain  \\\n",
       "0       450              161            940         Yes        AWD   \n",
       "1       270              167            250         Yes        RWD   \n",
       "2       400              181            620         Yes        AWD   \n",
       "3       360              206            560         Yes        RWD   \n",
       "4       170              168            190         Yes        RWD   \n",
       "\n",
       "     PlugType  BodyStyle Segment  Seats  PriceEuro  \n",
       "0  Type 2 CCS      Sedan       D      5      55480  \n",
       "1  Type 2 CCS  Hatchback       C      5      30000  \n",
       "2  Type 2 CCS   Liftback       D      5      56440  \n",
       "3  Type 2 CCS        SUV       D      5      68040  \n",
       "4  Type 2 CCS  Hatchback       B      4      32997  "
      ]
     },
     "execution_count": 76,
     "metadata": {},
     "output_type": "execute_result"
    }
   ],
   "source": [
    "df = pd.read_csv(\"EV/ElectricCarData_Clean.csv\")\n",
    "\n",
    "df.head()\n"
   ]
  },
  {
   "cell_type": "code",
   "execution_count": 77,
   "metadata": {},
   "outputs": [
    {
     "data": {
      "text/plain": [
       "Index(['Brand', 'Model', 'AccelSec', 'TopSpeed_KmH', 'Range_Km',\n",
       "       'Efficiency_WhKm', 'FastCharge_KmH', 'RapidCharge', 'PowerTrain',\n",
       "       'PlugType', 'BodyStyle', 'Segment', 'Seats', 'PriceEuro'],\n",
       "      dtype='object')"
      ]
     },
     "execution_count": 77,
     "metadata": {},
     "output_type": "execute_result"
    }
   ],
   "source": [
    "# Take a look on the features this dataset holds \n",
    "\n",
    "df.columns"
   ]
  },
  {
   "attachments": {},
   "cell_type": "markdown",
   "metadata": {},
   "source": [
    "# Quality Assesment "
   ]
  },
  {
   "cell_type": "code",
   "execution_count": 78,
   "metadata": {},
   "outputs": [
    {
     "name": "stdout",
     "output_type": "stream",
     "text": [
      "\n",
      "Missing Values Percentage:\n",
      "Brand              0.0\n",
      "Model              0.0\n",
      "AccelSec           0.0\n",
      "TopSpeed_KmH       0.0\n",
      "Range_Km           0.0\n",
      "Efficiency_WhKm    0.0\n",
      "FastCharge_KmH     0.0\n",
      "RapidCharge        0.0\n",
      "PowerTrain         0.0\n",
      "PlugType           0.0\n",
      "BodyStyle          0.0\n",
      "Segment            0.0\n",
      "Seats              0.0\n",
      "PriceEuro          0.0\n",
      "dtype: float64\n"
     ]
    }
   ],
   "source": [
    "# Data Completence\n",
    "\n",
    "# Check for missing values\n",
    "missing_values = df.isnull().sum()\n",
    "\n",
    "# Calculate the percentage of missing values for each column\n",
    "missing_percentage = (missing_values / len(df)) * 100\n",
    "\n",
    "# Print the missing values count and percentage for each column\n",
    "print(\"\\nMissing Values Percentage:\")\n",
    "print(missing_percentage)"
   ]
  },
  {
   "cell_type": "code",
   "execution_count": 79,
   "metadata": {},
   "outputs": [
    {
     "name": "stdout",
     "output_type": "stream",
     "text": [
      "Duplicate Rows Count: 0\n",
      "Inconsistent Columns: ['Brand', 'Model', 'AccelSec', 'TopSpeed_KmH', 'Range_Km', 'Efficiency_WhKm', 'FastCharge_KmH', 'RapidCharge', 'PowerTrain', 'PlugType', 'BodyStyle', 'Segment', 'Seats', 'PriceEuro']\n"
     ]
    }
   ],
   "source": [
    "# Check data conformity \n",
    "\n",
    "# Check for duplicate rows\n",
    "duplicate_rows = df.duplicated()\n",
    "duplicate_rows_count = duplicate_rows.sum()\n",
    "\n",
    "# Check for inconsistent values within columns\n",
    "inconsistent_values = []\n",
    "for column in df.columns:\n",
    "    unique_values = df[column].unique()\n",
    "    if len(unique_values) > 1:\n",
    "        inconsistent_values.append(column)\n",
    "\n",
    "# Print the results\n",
    "print(\"Duplicate Rows Count:\", duplicate_rows_count)\n",
    "print(\"Inconsistent Columns:\", inconsistent_values)"
   ]
  },
  {
   "cell_type": "code",
   "execution_count": 80,
   "metadata": {},
   "outputs": [
    {
     "name": "stdout",
     "output_type": "stream",
     "text": [
      "The (Brand) column holding data of type (object) \n",
      " and has values of (['Tesla ' 'Volkswagen ' 'Polestar ' 'BMW ' 'Honda ' 'Lucid ' 'Peugeot '\n",
      " 'Audi ' 'Mercedes ' 'Nissan ' 'Hyundai ' 'Porsche ' 'MG ' 'Mini ' 'Opel '\n",
      " 'Skoda ' 'Volvo ' 'Kia ' 'Renault ' 'Mazda ' 'Lexus ' 'CUPRA ' 'SEAT '\n",
      " 'Lightyear ' 'Aiways ' 'DS ' 'Citroen ' 'Jaguar ' 'Ford ' 'Byton '\n",
      " 'Sono ' 'Smart ' 'Fiat '])\n",
      "The (Model) column holding data of type (object) \n",
      " and has values of (['Model 3 Long Range Dual Motor' 'ID.3 Pure' '2' 'iX3 ' 'e ' 'Air '\n",
      " 'e-Golf ' 'e-208 ' 'Model 3 Standard Range Plus' 'Q4 e-tron '\n",
      " 'EQC 400 4MATIC' 'Leaf ' 'Kona Electric 64 kWh' 'i4 ' 'IONIQ Electric'\n",
      " 'ID.3 Pro S' 'Taycan Turbo S' 'e-Up! ' 'ZS EV' 'Cooper SE ' 'Corsa-e '\n",
      " 'Model Y Long Range Dual Motor' 'Enyaq iV 50' 'e-tron GT '\n",
      " 'Model 3 Long Range Performance' 'ID.4 ' 'ID.3 Pro'\n",
      " 'XC40 P8 AWD Recharge' 'i3 120 Ah' 'e-2008 SUV ' 'e-tron 50 quattro'\n",
      " 'e-Niro 64 kWh' 'Zoe ZE50 R110' 'Cybertruck Tri Motor' 'MX-30 ' 'Leaf e+'\n",
      " 'UX 300e' 'el-Born ' 'Zoe ZE50 R135' 'EQA ' 'Model S Long Range'\n",
      " 'Kona Electric 39 kWh' 'e-tron Sportback 55 quattro' 'CITIGOe iV '\n",
      " 'Mii Electric ' 'e-Soul 64 kWh' 'Ampera-e ' 'Taycan 4S' 'One ' 'U5 '\n",
      " 'e-tron 55 quattro' 'Roadster ' 'Mokka-e ' 'Enyaq iV 80'\n",
      " 'Model X Long Range' 'e Advance' '3 Crossback E-Tense' 'Twingo ZE'\n",
      " 'e-C4 ' 'Model S Performance' 'Zoe ZE40 R110'\n",
      " 'Model Y Long Range Performance' 'Ariya 87kWh' 'I-Pace '\n",
      " 'Mustang Mach-E ER RWD' 'Taycan 4S Plus' 'e-NV200 Evalia '\n",
      " 'Cybertruck Dual Motor' 'Kangoo Maxi ZE 33' 'Mustang Mach-E ER AWD'\n",
      " 'i3s 120 Ah' 'Enyaq iV 80X' 'Taycan Cross Turismo ' 'M-Byte 95 kWh 4WD'\n",
      " 'Sion ' 'e-Niro 39 kWh' 'Q4 Sportback e-tron ' 'EQ forfour '\n",
      " 'Mustang Mach-E SR AWD' 'Taycan Turbo' 'ID.3 1st' 'Model X Performance'\n",
      " 'EQ fortwo coupe' 'Mustang Mach-E SR RWD' 'EQV 300 Long' '500e Hatchback'\n",
      " 'Cybertruck Single Motor' 'e-tron Sportback 50 quattro' 'Enyaq iV vRS'\n",
      " 'Enyaq iV 60' 'e-tron S 55 quattro' 'EQ fortwo cabrio'\n",
      " 'Ariya e-4ORCE 87kWh' '500e Convertible' 'ID.3 Pro Performance'\n",
      " 'e-Soul 39 kWh' 'M-Byte 72 kWh 2WD' 'Ariya 63kWh'\n",
      " 'e-tron S Sportback 55 quattro' 'Ariya e-4ORCE 63kWh'\n",
      " 'Ariya e-4ORCE 87kWh Performance' 'M-Byte 95 kWh 2WD'])\n",
      "The (AccelSec) column holding data of type (float64) \n",
      " and has values of ([ 4.6 10.   4.7  6.8  9.5  2.8  9.6  8.1  5.6  6.3  5.1  7.9  4.   9.7\n",
      " 11.9  8.2  7.3  3.5  3.4  7.5  9.   4.9  8.5  7.8 11.4  3.   6.5  5.\n",
      "  3.8  9.9  5.7 12.3  2.1  8.8  8.3  8.7 12.6  2.5  3.7  7.6  4.8  7.\n",
      " 14.  22.4  6.   6.9  5.5  9.8 12.7  3.2 11.6  6.6  6.2  4.5  5.9])\n",
      "The (TopSpeed_KmH) column holding data of type (int64) \n",
      " and has values of ([233 160 210 180 145 250 150 225 144 167 200 165 260 130 140 217 240 261\n",
      " 190 135 157 155 410 241 123])\n",
      "The (Range_Km) column holding data of type (int64) \n",
      " and has values of ([450 270 400 360 170 610 190 275 310 370 220 250 440 375 195 185 425 290\n",
      " 435 420 350 235 280 315 750 180 325 515 255 380 365 335 575 970 130 505\n",
      " 410 460 160 430 230 385 390 225  95 340 100 330 295 320])\n",
      "The (Efficiency_WhKm) column holding data of type (int64) \n",
      " and has values of ([161 167 181 206 168 180 164 153 193 216 160 178 175 223 166 156 171 179\n",
      " 197 183 200 231 173 165 267 172 184 154 228 195 104 188 237 176 211 177\n",
      " 198 232 261 194 209 217 244 215 273 256 219 270 207 170 222 191 258 238])\n",
      "The (FastCharge_KmH) column holding data of type (object) \n",
      " and has values of (['940' '250' '620' '560' '190' '220' '420' '650' '540' '440' '230' '380'\n",
      " '210' '590' '780' '170' '260' '930' '850' '910' '490' '470' '270' '450'\n",
      " '350' '710' '240' '390' '570' '610' '340' '730' '920' '-' '550' '900'\n",
      " '520' '430' '890' '410' '770' '460' '360' '810' '480' '290' '330' '740'\n",
      " '510' '320' '500'])\n",
      "The (RapidCharge) column holding data of type (object) \n",
      " and has values of (['Yes' 'No'])\n",
      "The (PowerTrain) column holding data of type (object) \n",
      " and has values of (['AWD' 'RWD' 'FWD'])\n",
      "The (PlugType) column holding data of type (object) \n",
      " and has values of (['Type 2 CCS' 'Type 2 CHAdeMO' 'Type 2' 'Type 1 CHAdeMO'])\n",
      "The (BodyStyle) column holding data of type (object) \n",
      " and has values of (['Sedan' 'Hatchback' 'Liftback' 'SUV' 'Pickup' 'MPV' 'Cabrio' 'SPV'\n",
      " 'Station'])\n",
      "The (Segment) column holding data of type (object) \n",
      " and has values of (['D' 'C' 'B' 'F' 'A' 'E' 'N' 'S'])\n",
      "The (Seats) column holding data of type (int64) \n",
      " and has values of ([5 4 7 6 2])\n",
      "The (PriceEuro) column holding data of type (int64) \n",
      " and has values of ([ 55480  30000  56440  68040  32997 105000  31900  29682  46380  55000\n",
      "  69484  29234  40795  65000  34459  40936 180781  21421  31681  29146\n",
      "  58620  35000 125000  61480  45000  33000  60437  38017  34361  67358\n",
      "  38105  31184  75000  32646  37237  50000  33133  79990  33971  81639\n",
      "  24534  20129  36837  41906 102945 149000  36057  79445 215000  40000\n",
      "  85990  35921  37422  24790  96990  65620  75351  54475 109302  33246\n",
      "  38000  62900  41526 150000  64000  25500  34400  57500  22030  54000\n",
      " 148301  38987 102990  21387  46900  70631  34900  69551  47500  37500\n",
      "  93800  24565  37900  35575  53500  96050  62000])\n"
     ]
    }
   ],
   "source": [
    "for column in df.columns:\n",
    "    dtype = df[column].dtype\n",
    "    unique_values = df[column].unique()\n",
    "    print(f\"The ({column}) column holding data of type ({dtype}) \\n and has values of ({unique_values})\")\n"
   ]
  },
  {
   "attachments": {},
   "cell_type": "markdown",
   "metadata": {},
   "source": [
    "### Observation \n",
    "\n",
    "We checked the Completence,Conformity,integrity and accuracy of the data.\n",
    "\n",
    "The data is very good quality wise and ready for analysis\n"
   ]
  },
  {
   "attachments": {},
   "cell_type": "markdown",
   "metadata": {},
   "source": [
    "# Analysis and answering questions \n",
    "\n",
    "Now that we have the data ready we can start answering the questions we need from the dataset"
   ]
  },
  {
   "cell_type": "markdown",
   "metadata": {},
   "source": [
    "## #1 What is the fastest acceleration from 0-100 "
   ]
  },
  {
   "cell_type": "code",
   "execution_count": 81,
   "metadata": {},
   "outputs": [
    {
     "name": "stdout",
     "output_type": "stream",
     "text": [
      "fastest car ('Renault ', 'Kangoo Maxi ZE 33') it's acceleration 22.4\n"
     ]
    }
   ],
   "source": [
    "\n",
    "# Initialize variable to store fastest acceleration \n",
    "fastest_acceleration = float(0)\n",
    "\n",
    "# Initialize variable to store fastest car name\n",
    "fastest_brand=''\n",
    "fastest_model= ''\n",
    "\n",
    "index=0\n",
    "\n",
    "for accele in df['AccelSec']:\n",
    "        if accele and float(accele) > fastest_acceleration:\n",
    "            fastest_acceleration = float(accele)\n",
    "            car_model = df['Model'][index]\n",
    "            car_brand = df['Brand'][index]\n",
    "        index+=1    \n",
    "\n",
    "print(f\"fastest car {car_brand, car_model} it's acceleration {fastest_acceleration}\")            "
   ]
  },
  {
   "cell_type": "markdown",
   "metadata": {},
   "source": [
    "## # 2 Which has the highest efficiency?"
   ]
  },
  {
   "cell_type": "code",
   "execution_count": 82,
   "metadata": {},
   "outputs": [
    {
     "name": "stdout",
     "output_type": "stream",
     "text": [
      "The car with the highest efficiency is: Mercedes  EQV 300 Long with efficiency of : 273.0 Wh/km\n"
     ]
    }
   ],
   "source": [
    "\n",
    "highest_efficiency = 0\n",
    "car_model = \"\"\n",
    "car_brand=\" \"\n",
    "\n",
    "\n",
    "index=0\n",
    "for car in df.index:\n",
    "    efficiency_whkm = df['Efficiency_WhKm'][car]\n",
    "    if efficiency_whkm and float(efficiency_whkm) > highest_efficiency:\n",
    "        highest_efficiency = float(efficiency_whkm)\n",
    "        car_model = df['Model'][car]\n",
    "        car_brand= df['Brand'][car]\n",
    "       \n",
    "\n",
    "\n",
    "print(\"The car with the highest efficiency is:\",car_brand, car_model,\"with efficiency of :\", highest_efficiency ,\"Wh/km\")        "
   ]
  },
  {
   "cell_type": "markdown",
   "metadata": {},
   "source": [
    "## #3  Does a difference in power train effect the range, top speed, efficiency?"
   ]
  },
  {
   "cell_type": "code",
   "execution_count": 83,
   "metadata": {},
   "outputs": [
    {
     "data": {
      "text/plain": [
       "array(['AWD', 'RWD', 'FWD'], dtype=object)"
      ]
     },
     "execution_count": 83,
     "metadata": {},
     "output_type": "execute_result"
    }
   ],
   "source": [
    "\n",
    "# First let's look at the power train values \n",
    "df['PowerTrain'].unique()"
   ]
  },
  {
   "cell_type": "markdown",
   "metadata": {},
   "source": [
    "### so there are three types of powerTrain (`AWD`-`RWD`-`FWD`)"
   ]
  },
  {
   "cell_type": "code",
   "execution_count": 84,
   "metadata": {},
   "outputs": [
    {
     "data": {
      "image/png": "[encoded data removed]",
      "text/plain": [
       "<Figure size 640x480 with 1 Axes>"
      ]
     },
     "metadata": {},
     "output_type": "display_data"
    },
    {
     "data": {
      "image/png": "[encoded data removed]",
      "text/plain": [
       "<Figure size 640x480 with 1 Axes>"
      ]
     },
     "metadata": {},
     "output_type": "display_data"
    },
    {
     "data": {
      "image/png": "[encoded data removed]",
      "text/plain": [
       "<Figure size 640x480 with 1 Axes>"
      ]
     },
     "metadata": {},
     "output_type": "display_data"
    }
   ],
   "source": [
    "# Create a scatter plot\n",
    "\n",
    "plt.scatter(df['PowerTrain'], df['TopSpeed_KmH'])\n",
    "\n",
    "# Add labels and title\n",
    "plt.xlabel(\"Power Train\")\n",
    "plt.ylabel(\"Top Speed\")\n",
    "plt.title(\"Power Train vs. Top Speed\")\n",
    "\n",
    "# Adjust spacing between plots\n",
    "plt.tight_layout()\n",
    "\n",
    "# Show the plot\n",
    "plt.show()\n",
    "\n",
    "\n",
    "# Create a scatter plot\n",
    "plt.scatter(df['PowerTrain'], df['Range_Km'])\n",
    "\n",
    "# Add labels and title\n",
    "plt.xlabel(\"Power Train\")\n",
    "plt.ylabel(\"Range\")\n",
    "plt.title(\"Power Train vs. Range\")\n",
    "\n",
    "# Adjust spacing between plots\n",
    "plt.tight_layout()\n",
    "\n",
    "# Show the plot\n",
    "plt.show()\n",
    "\n",
    "\n",
    "\n",
    "# Create a scatter plot\n",
    "plt.scatter(df['PowerTrain'], df['Efficiency_WhKm'])\n",
    " \n",
    " \n",
    "# Add labels and title\n",
    "plt.xlabel(\"Power Train\")\n",
    "plt.ylabel(\"Efficiency\")\n",
    "plt.title(\"Power Train vs. Efficiency\")\n",
    "\n",
    "\n",
    "# Adjust spacing between plots\n",
    "plt.tight_layout()\n",
    "\n",
    "# Show the plot\n",
    "plt.show()"
   ]
  },
  {
   "cell_type": "code",
   "execution_count": 85,
   "metadata": {},
   "outputs": [
    {
     "name": "stdout",
     "output_type": "stream",
     "text": [
      "Average top speed on AWD is : 216.90243902439025 \n",
      " Average top speed on RWD is : 162.4 \n",
      " Average top speed on FWD is : 148.75675675675674 \n",
      "\n"
     ]
    }
   ],
   "source": [
    "# We can calculate the mean average of each to compare as well\n",
    "\n",
    "awd_speed_sum= df[df['PowerTrain']==\"AWD\"]['TopSpeed_KmH'].sum()\n",
    "rwd_speed_sum= df[df['PowerTrain']==\"RWD\"]['TopSpeed_KmH'].sum()\n",
    "fwd_speed_sum= df[df['PowerTrain']==\"FWD\"]['TopSpeed_KmH'].sum()\n",
    "\n",
    "awd_speed_count= df[df['PowerTrain']==\"AWD\"]['TopSpeed_KmH'].count()\n",
    "rwd_speed_count= df[df['PowerTrain']==\"RWD\"]['TopSpeed_KmH'].count()\n",
    "fwd_speed_count= df[df['PowerTrain']==\"FWD\"]['TopSpeed_KmH'].count()\n",
    "\n",
    "\n",
    "avg_speed_awd= awd_speed_sum/awd_speed_count\n",
    "avg_speed_rwd= rwd_speed_sum/rwd_speed_count\n",
    "avg_speed_fwd= fwd_speed_sum/fwd_speed_count\n",
    "\n",
    "print(f\"Average top speed on AWD is : {avg_speed_awd} \\n Average top speed on RWD is : {avg_speed_rwd} \\n Average top speed on FWD is : {avg_speed_fwd} \\n\")"
   ]
  },
  {
   "cell_type": "markdown",
   "metadata": {},
   "source": [
    "### Observation \n",
    "\n",
    "The difference in power train affects the top speed of the car"
   ]
  },
  {
   "cell_type": "code",
   "execution_count": 86,
   "metadata": {},
   "outputs": [
    {
     "name": "stdout",
     "output_type": "stream",
     "text": [
      "Average range on AWD is : 426.4634146341463 \n",
      " Average range on RWD is : 299.4 \n",
      " Average range on FWD is : 268.2432432432432 \n",
      "\n"
     ]
    }
   ],
   "source": [
    "# now let's see if it affects Range the car can travel in a full charge\n",
    "\n",
    "awd_range_sum= df[df['PowerTrain']==\"AWD\"]['Range_Km'].sum()\n",
    "rwd_range_sum= df[df['PowerTrain']==\"RWD\"]['Range_Km'].sum()\n",
    "fwd_range_sum= df[df['PowerTrain']==\"FWD\"]['Range_Km'].sum()\n",
    "\n",
    "awd_range_count= df[df['PowerTrain']==\"AWD\"]['Range_Km'].count()\n",
    "rwd_range_count= df[df['PowerTrain']==\"RWD\"]['Range_Km'].count()\n",
    "fwd_range_count= df[df['PowerTrain']==\"FWD\"]['Range_Km'].count()\n",
    "\n",
    "\n",
    "avg_range_awd= awd_range_sum/awd_range_count\n",
    "avg_range_rwd= rwd_range_sum/rwd_range_count\n",
    "avg_range_fwd= fwd_range_sum/fwd_range_count\n",
    "\n",
    "print(f\"Average range on AWD is : {avg_range_awd} \\n Average range on RWD is : {avg_range_rwd} \\n Average range on FWD is : {avg_range_fwd} \\n\")"
   ]
  },
  {
   "cell_type": "markdown",
   "metadata": {},
   "source": [
    "### Observation \n",
    "\n",
    "The AWD power train is very different and distinct from the RWD and FWD range wise, while RWD and FWD are very close "
   ]
  },
  {
   "cell_type": "code",
   "execution_count": 87,
   "metadata": {},
   "outputs": [
    {
     "name": "stdout",
     "output_type": "stream",
     "text": [
      "Average Effeciency on AWD is : 206.7560975609756 \n",
      " Average Effeciency on RWD is : 180.44 \n",
      " Average Effeciency on FWD is : 175.56756756756758 \n",
      "\n"
     ]
    }
   ],
   "source": [
    "# now let's see if it affects Effeciency of the car\n",
    "\n",
    "awd_eff_sum= df[df['PowerTrain']==\"AWD\"]['Efficiency_WhKm'].sum()\n",
    "rwd_eff_sum= df[df['PowerTrain']==\"RWD\"]['Efficiency_WhKm'].sum()\n",
    "fwd_eff_sum= df[df['PowerTrain']==\"FWD\"]['Efficiency_WhKm'].sum()\n",
    "\n",
    "awd_eff_count= df[df['PowerTrain']==\"AWD\"]['Efficiency_WhKm'].count()\n",
    "rwd_eff_count= df[df['PowerTrain']==\"RWD\"]['Efficiency_WhKm'].count()\n",
    "fwd_eff_count= df[df['PowerTrain']==\"FWD\"]['Efficiency_WhKm'].count()\n",
    "\n",
    "\n",
    "avg_eff_awd= awd_eff_sum/awd_eff_count\n",
    "avg_eff_rwd= rwd_eff_sum/rwd_eff_count\n",
    "avg_eff_fwd= fwd_eff_sum/fwd_eff_count\n",
    "\n",
    "print(f\"Average Effeciency on AWD is : {avg_eff_awd} \\n Average Effeciency on RWD is : {avg_eff_rwd} \\n Average Effeciency on FWD is : {avg_eff_fwd} \\n\")"
   ]
  },
  {
   "cell_type": "markdown",
   "metadata": {},
   "source": [
    "### Observation \n",
    "\n",
    "We see once more that AWD power train is a bit different and distinct from the RWD and FWD , while RWD and FWD are very close "
   ]
  },
  {
   "cell_type": "markdown",
   "metadata": {},
   "source": [
    "## #4 Which manufacturer has the most number of vehicles?"
   ]
  },
  {
   "cell_type": "code",
   "execution_count": 88,
   "metadata": {},
   "outputs": [
    {
     "data": {
      "text/plain": [
       "'Peugeot '"
      ]
     },
     "execution_count": 88,
     "metadata": {},
     "output_type": "execute_result"
    }
   ],
   "source": [
    "brands=df['Brand'].unique()\n",
    "brands[6]"
   ]
  },
  {
   "cell_type": "code",
   "execution_count": 89,
   "metadata": {},
   "outputs": [
    {
     "data": {
      "text/plain": [
       "2"
      ]
     },
     "execution_count": 89,
     "metadata": {},
     "output_type": "execute_result"
    }
   ],
   "source": [
    "sum=df[df['Brand']==brands[6]].__len__()\n",
    "sum"
   ]
  },
  {
   "cell_type": "code",
   "execution_count": 90,
   "metadata": {},
   "outputs": [
    {
     "name": "stdout",
     "output_type": "stream",
     "text": [
      "The manufacturer with the most number of vehicles is : Tesla  with 13 cars out of 103 from 33 manufacturer\n"
     ]
    }
   ],
   "source": [
    "# We can use a for loop to find the answer \n",
    "\n",
    "most_cars=0\n",
    "highest_brand=''\n",
    "\n",
    "for brand in df['Brand'].unique():\n",
    "    sum = df[df['Brand']==brand].__len__()\n",
    "    if sum > most_cars:\n",
    "        most_cars=sum\n",
    "        highest_brand=brand\n",
    "        \n",
    "print(f\"The manufacturer with the most number of vehicles is : {highest_brand} with {most_cars} cars out of {df.__len__()} from {df['Brand'].unique().__len__()} manufacturer\")        "
   ]
  },
  {
   "cell_type": "markdown",
   "metadata": {},
   "source": [
    "## #5 How does price relate to rapid charging?"
   ]
  },
  {
   "cell_type": "code",
   "execution_count": 91,
   "metadata": {},
   "outputs": [
    {
     "data": {
      "image/png": "[encoded data removed]",
      "text/plain": [
       "<Figure size 640x480 with 1 Axes>"
      ]
     },
     "metadata": {},
     "output_type": "display_data"
    }
   ],
   "source": [
    "plt.scatter(df['PriceEuro'],df['RapidCharge'])\n",
    "\n",
    "# Add labels and title\n",
    "plt.xlabel(\"Price\")\n",
    "plt.ylabel(\"Rapid Charge\")\n",
    "plt.title(\"Price vs. Rapid charge\")\n",
    "\n",
    "# Adjust spacing between plots\n",
    "plt.tight_layout()\n",
    "\n",
    "# Show the plot\n",
    "plt.show()"
   ]
  },
  {
   "cell_type": "code",
   "execution_count": 92,
   "metadata": {},
   "outputs": [],
   "source": [
    "no_rapid_charge= df[df['RapidCharge']==\"No\"]\n",
    "\n",
    "no_prices= no_rapid_charge['PriceEuro']"
   ]
  },
  {
   "cell_type": "code",
   "execution_count": 93,
   "metadata": {},
   "outputs": [],
   "source": [
    "yes_rapid_charge = df[df['RapidCharge']==\"Yes\"]\n",
    "\n",
    "yes_prices= yes_rapid_charge['PriceEuro']"
   ]
  },
  {
   "cell_type": "code",
   "execution_count": 94,
   "metadata": {},
   "outputs": [
    {
     "data": {
      "text/plain": [
       "21387"
      ]
     },
     "execution_count": 94,
     "metadata": {},
     "output_type": "execute_result"
    }
   ],
   "source": [
    "no_prices.min()"
   ]
  },
  {
   "cell_type": "code",
   "execution_count": 95,
   "metadata": {},
   "outputs": [
    {
     "data": {
      "text/plain": [
       "20129"
      ]
     },
     "execution_count": 95,
     "metadata": {},
     "output_type": "execute_result"
    }
   ],
   "source": [
    "yes_prices.min()"
   ]
  },
  {
   "cell_type": "markdown",
   "metadata": {},
   "source": [
    "## Observation \n",
    "\n",
    "The price is not certainly a factor for the car to have a rapid charge or not, `BUT` of course it also depends on many factors such as *brand*, *Effeciency*,*Powertrain* etc.."
   ]
  },
  {
   "cell_type": "markdown",
   "metadata": {},
   "source": [
    "--------------------------"
   ]
  },
  {
   "cell_type": "markdown",
   "metadata": {},
   "source": [
    "# Price Predictions "
   ]
  },
  {
   "cell_type": "markdown",
   "metadata": {},
   "source": [
    "### First, we'll try to find collerations between features and prices to scope down important features "
   ]
  },
  {
   "cell_type": "markdown",
   "metadata": {},
   "source": [
    "### Preprocess data"
   ]
  },
  {
   "cell_type": "code",
   "execution_count": 96,
   "metadata": {},
   "outputs": [
    {
     "name": "stdout",
     "output_type": "stream",
     "text": [
      "           Brand                            Model  AccelSec  TopSpeed_KmH  \\\n",
      "0         Tesla     Model 3 Long Range Dual Motor       4.6           233   \n",
      "1    Volkswagen                         ID.3 Pure      10.0           160   \n",
      "2      Polestar                                 2       4.7           210   \n",
      "3           BMW                              iX3        6.8           180   \n",
      "4         Honda                                e        9.5           145   \n",
      "..           ...                              ...       ...           ...   \n",
      "98       Nissan                       Ariya 63kWh       7.5           160   \n",
      "99         Audi     e-tron S Sportback 55 quattro       4.5           210   \n",
      "100      Nissan               Ariya e-4ORCE 63kWh       5.9           200   \n",
      "101      Nissan   Ariya e-4ORCE 87kWh Performance       5.1           200   \n",
      "102       Byton                 M-Byte 95 kWh 2WD       7.5           190   \n",
      "\n",
      "     Range_Km  Efficiency_WhKm FastCharge_KmH RapidCharge PowerTrain  \\\n",
      "0         450              161            940         Yes        AWD   \n",
      "1         270              167            250         Yes        RWD   \n",
      "2         400              181            620         Yes        AWD   \n",
      "3         360              206            560         Yes        RWD   \n",
      "4         170              168            190         Yes        RWD   \n",
      "..        ...              ...            ...         ...        ...   \n",
      "98        330              191            440         Yes        FWD   \n",
      "99        335              258            540         Yes        AWD   \n",
      "100       325              194            440         Yes        AWD   \n",
      "101       375              232            450         Yes        AWD   \n",
      "102       400              238            480         Yes        AWD   \n",
      "\n",
      "       PlugType  BodyStyle  Segment  Seats  PriceEuro  \n",
      "0    Type 2 CCS      Sedan        0      5      55480  \n",
      "1    Type 2 CCS  Hatchback        1      5      30000  \n",
      "2    Type 2 CCS   Liftback        0      5      56440  \n",
      "3    Type 2 CCS        SUV        0      5      68040  \n",
      "4    Type 2 CCS  Hatchback        2      4      32997  \n",
      "..          ...        ...      ...    ...        ...  \n",
      "98   Type 2 CCS  Hatchback        1      5      45000  \n",
      "99   Type 2 CCS        SUV        5      5      96050  \n",
      "100  Type 2 CCS  Hatchback        1      5      50000  \n",
      "101  Type 2 CCS  Hatchback        1      5      65000  \n",
      "102  Type 2 CCS        SUV        5      5      62000  \n",
      "\n",
      "[103 rows x 14 columns]\n"
     ]
    }
   ],
   "source": [
    "# Step 1: Create a mapping of unique string values to integers\n",
    "unique_categories = df['Segment'].unique()\n",
    "category_to_int = {category: i for i, category in enumerate(unique_categories)}\n",
    "\n",
    "# Step 2: Use the map() function to replace the strings with integers\n",
    "df['Segment'] = df['Segment'].map(category_to_int)\n",
    "\n",
    "print(df)"
   ]
  },
  {
   "cell_type": "code",
   "execution_count": 97,
   "metadata": {},
   "outputs": [
    {
     "name": "stdout",
     "output_type": "stream",
     "text": [
      "Correlation between Segment and PriceEuro: 0.30728014263346937\n"
     ]
    },
    {
     "data": {
      "image/png": "[encoded data removed]",
      "text/plain": [
       "<Figure size 640x480 with 1 Axes>"
      ]
     },
     "metadata": {},
     "output_type": "display_data"
    }
   ],
   "source": [
    "column1='Segment'\n",
    "column2='PriceEuro'\n",
    "\n",
    "\n",
    "# Step 4: Calculate Correlation Coefficient\n",
    "correlation_coefficient = df[column1].corr(df[column2])\n",
    "\n",
    "# Step 5: Interpret the Correlation\n",
    "print(f\"Correlation between {column1} and {column2}: {correlation_coefficient}\")\n",
    "\n",
    "# Optional: If you want to visualize the correlation, you can create a scatter plot\n",
    "import matplotlib.pyplot as plt\n",
    "\n",
    "plt.scatter(df[column1], df[column2])\n",
    "plt.xlabel(column1)\n",
    "plt.ylabel(column2)\n",
    "plt.title(f\"Scatter plot between {column1} and {column2}\")\n",
    "plt.show()"
   ]
  },
  {
   "cell_type": "code",
   "execution_count": 98,
   "metadata": {},
   "outputs": [],
   "source": [
    "# First we preprocess data\n",
    "\n",
    "# FastCharge was stored as string converting them to integers\n",
    "\n",
    "df['FastCharge_KmH']=df['FastCharge_KmH'].replace('-',0)\n",
    "df['FastCharge_KmH']=df['FastCharge_KmH'].astype(int)"
   ]
  },
  {
   "cell_type": "code",
   "execution_count": 99,
   "metadata": {},
   "outputs": [
    {
     "name": "stderr",
     "output_type": "stream",
     "text": [
      "C:\\Users\\amedhatf\\AppData\\Local\\Temp\\ipykernel_15860\\72146593.py:5: FutureWarning: The default value of numeric_only in DataFrame.corr is deprecated. In a future version, it will default to False. Select only valid columns or specify the value of numeric_only to silence this warning.\n",
      "  correlation_matrix = df.corr()\n"
     ]
    },
    {
     "data": {
      "image/png": "[encoded data removed]",
      "text/plain": [
       "<Figure size 800x600 with 2 Axes>"
      ]
     },
     "metadata": {},
     "output_type": "display_data"
    }
   ],
   "source": [
    "import seaborn as sns\n",
    "# Heatmap is very effecient in finding collerations between features\n",
    "\n",
    "# Calculate the correlation matrix\n",
    "correlation_matrix = df.corr()\n",
    "\n",
    "# Create a heatmap\n",
    "plt.figure(figsize=(8, 6))\n",
    "sns.heatmap(correlation_matrix,annot=True, cmap='coolwarm', center=0)\n",
    "\n",
    "# Filter out only the positively correlated values\n",
    "positive_correlations = correlation_matrix[correlation_matrix > 0]\n",
    "\n",
    "\n",
    "plt.show()"
   ]
  },
  {
   "cell_type": "markdown",
   "metadata": {},
   "source": [
    "### Observation \n",
    "\n",
    "The Price of the car is positively corellated with the TopSpeed,Range_km and FastCharge, Therfore we can use those two features to predict prices"
   ]
  },
  {
   "cell_type": "code",
   "execution_count": 65,
   "metadata": {},
   "outputs": [],
   "source": [
    "data_needed= df[['TopSpeed_KmH','Range_Km','FastCharge_KmH','PriceEuro']]"
   ]
  },
  {
   "cell_type": "code",
   "execution_count": 66,
   "metadata": {},
   "outputs": [
    {
     "data": {
      "text/html": [
       "<div>\n",
       "<style scoped>\n",
       "    .dataframe tbody tr th:only-of-type {\n",
       "        vertical-align: middle;\n",
       "    }\n",
       "\n",
       "    .dataframe tbody tr th {\n",
       "        vertical-align: top;\n",
       "    }\n",
       "\n",
       "    .dataframe thead th {\n",
       "        text-align: right;\n",
       "    }\n",
       "</style>\n",
       "<table border=\"1\" class=\"dataframe\">\n",
       "  <thead>\n",
       "    <tr style=\"text-align: right;\">\n",
       "      <th></th>\n",
       "      <th>TopSpeed_KmH</th>\n",
       "      <th>Range_Km</th>\n",
       "      <th>FastCharge_KmH</th>\n",
       "      <th>PriceEuro</th>\n",
       "    </tr>\n",
       "  </thead>\n",
       "  <tbody>\n",
       "    <tr>\n",
       "      <th>0</th>\n",
       "      <td>233</td>\n",
       "      <td>450</td>\n",
       "      <td>940</td>\n",
       "      <td>55480</td>\n",
       "    </tr>\n",
       "    <tr>\n",
       "      <th>1</th>\n",
       "      <td>160</td>\n",
       "      <td>270</td>\n",
       "      <td>250</td>\n",
       "      <td>30000</td>\n",
       "    </tr>\n",
       "    <tr>\n",
       "      <th>2</th>\n",
       "      <td>210</td>\n",
       "      <td>400</td>\n",
       "      <td>620</td>\n",
       "      <td>56440</td>\n",
       "    </tr>\n",
       "    <tr>\n",
       "      <th>3</th>\n",
       "      <td>180</td>\n",
       "      <td>360</td>\n",
       "      <td>560</td>\n",
       "      <td>68040</td>\n",
       "    </tr>\n",
       "    <tr>\n",
       "      <th>4</th>\n",
       "      <td>145</td>\n",
       "      <td>170</td>\n",
       "      <td>190</td>\n",
       "      <td>32997</td>\n",
       "    </tr>\n",
       "    <tr>\n",
       "      <th>...</th>\n",
       "      <td>...</td>\n",
       "      <td>...</td>\n",
       "      <td>...</td>\n",
       "      <td>...</td>\n",
       "    </tr>\n",
       "    <tr>\n",
       "      <th>98</th>\n",
       "      <td>160</td>\n",
       "      <td>330</td>\n",
       "      <td>440</td>\n",
       "      <td>45000</td>\n",
       "    </tr>\n",
       "    <tr>\n",
       "      <th>99</th>\n",
       "      <td>210</td>\n",
       "      <td>335</td>\n",
       "      <td>540</td>\n",
       "      <td>96050</td>\n",
       "    </tr>\n",
       "    <tr>\n",
       "      <th>100</th>\n",
       "      <td>200</td>\n",
       "      <td>325</td>\n",
       "      <td>440</td>\n",
       "      <td>50000</td>\n",
       "    </tr>\n",
       "    <tr>\n",
       "      <th>101</th>\n",
       "      <td>200</td>\n",
       "      <td>375</td>\n",
       "      <td>450</td>\n",
       "      <td>65000</td>\n",
       "    </tr>\n",
       "    <tr>\n",
       "      <th>102</th>\n",
       "      <td>190</td>\n",
       "      <td>400</td>\n",
       "      <td>480</td>\n",
       "      <td>62000</td>\n",
       "    </tr>\n",
       "  </tbody>\n",
       "</table>\n",
       "<p>103 rows × 4 columns</p>\n",
       "</div>"
      ],
      "text/plain": [
       "     TopSpeed_KmH  Range_Km  FastCharge_KmH  PriceEuro\n",
       "0             233       450             940      55480\n",
       "1             160       270             250      30000\n",
       "2             210       400             620      56440\n",
       "3             180       360             560      68040\n",
       "4             145       170             190      32997\n",
       "..            ...       ...             ...        ...\n",
       "98            160       330             440      45000\n",
       "99            210       335             540      96050\n",
       "100           200       325             440      50000\n",
       "101           200       375             450      65000\n",
       "102           190       400             480      62000\n",
       "\n",
       "[103 rows x 4 columns]"
      ]
     },
     "execution_count": 66,
     "metadata": {},
     "output_type": "execute_result"
    }
   ],
   "source": [
    "data_needed"
   ]
  },
  {
   "cell_type": "code",
   "execution_count": 56,
   "metadata": {},
   "outputs": [],
   "source": [
    "# identifying features and target\n",
    "\n",
    "X = df[['TopSpeed_KmH','Range_Km','FastCharge_KmH']]\n",
    "\n",
    "y= df['PriceEuro']"
   ]
  },
  {
   "cell_type": "markdown",
   "metadata": {},
   "source": [
    "### Issue #1 \n",
    "\n",
    "Data sample is very small \n",
    "\n",
    "`Solution` Data augmentation"
   ]
  },
  {
   "cell_type": "code",
   "execution_count": 78,
   "metadata": {},
   "outputs": [
    {
     "ename": "InvalidIndexError",
     "evalue": "(slice(None, None, None), 0)",
     "output_type": "error",
     "traceback": [
      "\u001b[1;31m---------------------------------------------------------------------------\u001b[0m",
      "\u001b[1;31mTypeError\u001b[0m                                 Traceback (most recent call last)",
      "File \u001b[1;32mc:\\anaconda3\\envs\\tf2.4\\lib\\site-packages\\pandas\\core\\indexes\\base.py:3803\u001b[0m, in \u001b[0;36mIndex.get_loc\u001b[1;34m(self, key, method, tolerance)\u001b[0m\n\u001b[0;32m   3802\u001b[0m \u001b[39mtry\u001b[39;00m:\n\u001b[1;32m-> 3803\u001b[0m     \u001b[39mreturn\u001b[39;00m \u001b[39mself\u001b[39;49m\u001b[39m.\u001b[39;49m_engine\u001b[39m.\u001b[39;49mget_loc(casted_key)\n\u001b[0;32m   3804\u001b[0m \u001b[39mexcept\u001b[39;00m \u001b[39mKeyError\u001b[39;00m \u001b[39mas\u001b[39;00m err:\n",
      "File \u001b[1;32mc:\\anaconda3\\envs\\tf2.4\\lib\\site-packages\\pandas\\_libs\\index.pyx:138\u001b[0m, in \u001b[0;36mpandas._libs.index.IndexEngine.get_loc\u001b[1;34m()\u001b[0m\n",
      "File \u001b[1;32mc:\\anaconda3\\envs\\tf2.4\\lib\\site-packages\\pandas\\_libs\\index.pyx:144\u001b[0m, in \u001b[0;36mpandas._libs.index.IndexEngine.get_loc\u001b[1;34m()\u001b[0m\n",
      "\u001b[1;31mTypeError\u001b[0m: '(slice(None, None, None), 0)' is an invalid key",
      "\nDuring handling of the above exception, another exception occurred:\n",
      "\u001b[1;31mInvalidIndexError\u001b[0m                         Traceback (most recent call last)",
      "Cell \u001b[1;32mIn[78], line 25\u001b[0m\n\u001b[0;32m     22\u001b[0m     \u001b[39mreturn\u001b[39;00m pd\u001b[39m.\u001b[39mconcat(augmented_data, ignore_index\u001b[39m=\u001b[39m\u001b[39mTrue\u001b[39;00m)\n\u001b[0;32m     24\u001b[0m \u001b[39m# Augment the entire dataset\u001b[39;00m\n\u001b[1;32m---> 25\u001b[0m augmented_data \u001b[39m=\u001b[39m augment_data(X,y, noise_level\u001b[39m=\u001b[39;49m\u001b[39m0.1\u001b[39;49m, num_samples\u001b[39m=\u001b[39;49m\u001b[39m10\u001b[39;49m)\n\u001b[0;32m     27\u001b[0m \u001b[39mprint\u001b[39m(augmented_data)\n",
      "Cell \u001b[1;32mIn[78], line 14\u001b[0m, in \u001b[0;36maugment_data\u001b[1;34m(data_features, data_target, noise_level, num_samples)\u001b[0m\n\u001b[0;32m     10\u001b[0m     augmented_target \u001b[39m=\u001b[39m data_target \u001b[39m+\u001b[39m np\u001b[39m.\u001b[39mrandom\u001b[39m.\u001b[39mnormal(scale\u001b[39m=\u001b[39mnoise_level, size\u001b[39m=\u001b[39m\u001b[39mlen\u001b[39m(data_target))\n\u001b[0;32m     12\u001b[0m     \u001b[39m# Combine augmented features and target into a single DataFrame\u001b[39;00m\n\u001b[0;32m     13\u001b[0m     augmented_sample \u001b[39m=\u001b[39m pd\u001b[39m.\u001b[39mDataFrame({\n\u001b[1;32m---> 14\u001b[0m         \u001b[39m'\u001b[39m\u001b[39mTopSpeed_KmH\u001b[39m\u001b[39m'\u001b[39m: augmented_features[:, \u001b[39m0\u001b[39;49m],\n\u001b[0;32m     15\u001b[0m         \u001b[39m'\u001b[39m\u001b[39mRange_Km\u001b[39m\u001b[39m'\u001b[39m: augmented_features[:, \u001b[39m1\u001b[39m],\n\u001b[0;32m     16\u001b[0m         \u001b[39m'\u001b[39m\u001b[39mFastCharge_KmH\u001b[39m\u001b[39m'\u001b[39m: augmented_features[:, \u001b[39m2\u001b[39m],\n\u001b[0;32m     17\u001b[0m         \u001b[39m'\u001b[39m\u001b[39mPriceEuro\u001b[39m\u001b[39m'\u001b[39m: augmented_target\n\u001b[0;32m     18\u001b[0m     })\n\u001b[0;32m     20\u001b[0m     augmented_data\u001b[39m.\u001b[39mappend(augmented_sample)\n\u001b[0;32m     22\u001b[0m \u001b[39mreturn\u001b[39;00m pd\u001b[39m.\u001b[39mconcat(augmented_data, ignore_index\u001b[39m=\u001b[39m\u001b[39mTrue\u001b[39;00m)\n",
      "File \u001b[1;32mc:\\anaconda3\\envs\\tf2.4\\lib\\site-packages\\pandas\\core\\frame.py:3805\u001b[0m, in \u001b[0;36mDataFrame.__getitem__\u001b[1;34m(self, key)\u001b[0m\n\u001b[0;32m   3803\u001b[0m \u001b[39mif\u001b[39;00m \u001b[39mself\u001b[39m\u001b[39m.\u001b[39mcolumns\u001b[39m.\u001b[39mnlevels \u001b[39m>\u001b[39m \u001b[39m1\u001b[39m:\n\u001b[0;32m   3804\u001b[0m     \u001b[39mreturn\u001b[39;00m \u001b[39mself\u001b[39m\u001b[39m.\u001b[39m_getitem_multilevel(key)\n\u001b[1;32m-> 3805\u001b[0m indexer \u001b[39m=\u001b[39m \u001b[39mself\u001b[39;49m\u001b[39m.\u001b[39;49mcolumns\u001b[39m.\u001b[39;49mget_loc(key)\n\u001b[0;32m   3806\u001b[0m \u001b[39mif\u001b[39;00m is_integer(indexer):\n\u001b[0;32m   3807\u001b[0m     indexer \u001b[39m=\u001b[39m [indexer]\n",
      "File \u001b[1;32mc:\\anaconda3\\envs\\tf2.4\\lib\\site-packages\\pandas\\core\\indexes\\base.py:3810\u001b[0m, in \u001b[0;36mIndex.get_loc\u001b[1;34m(self, key, method, tolerance)\u001b[0m\n\u001b[0;32m   3805\u001b[0m         \u001b[39mraise\u001b[39;00m \u001b[39mKeyError\u001b[39;00m(key) \u001b[39mfrom\u001b[39;00m \u001b[39merr\u001b[39;00m\n\u001b[0;32m   3806\u001b[0m     \u001b[39mexcept\u001b[39;00m \u001b[39mTypeError\u001b[39;00m:\n\u001b[0;32m   3807\u001b[0m         \u001b[39m# If we have a listlike key, _check_indexing_error will raise\u001b[39;00m\n\u001b[0;32m   3808\u001b[0m         \u001b[39m#  InvalidIndexError. Otherwise we fall through and re-raise\u001b[39;00m\n\u001b[0;32m   3809\u001b[0m         \u001b[39m#  the TypeError.\u001b[39;00m\n\u001b[1;32m-> 3810\u001b[0m         \u001b[39mself\u001b[39;49m\u001b[39m.\u001b[39;49m_check_indexing_error(key)\n\u001b[0;32m   3811\u001b[0m         \u001b[39mraise\u001b[39;00m\n\u001b[0;32m   3813\u001b[0m \u001b[39m# GH#42269\u001b[39;00m\n",
      "File \u001b[1;32mc:\\anaconda3\\envs\\tf2.4\\lib\\site-packages\\pandas\\core\\indexes\\base.py:5968\u001b[0m, in \u001b[0;36mIndex._check_indexing_error\u001b[1;34m(self, key)\u001b[0m\n\u001b[0;32m   5964\u001b[0m \u001b[39mdef\u001b[39;00m \u001b[39m_check_indexing_error\u001b[39m(\u001b[39mself\u001b[39m, key):\n\u001b[0;32m   5965\u001b[0m     \u001b[39mif\u001b[39;00m \u001b[39mnot\u001b[39;00m is_scalar(key):\n\u001b[0;32m   5966\u001b[0m         \u001b[39m# if key is not a scalar, directly raise an error (the code below\u001b[39;00m\n\u001b[0;32m   5967\u001b[0m         \u001b[39m# would convert to numpy arrays and raise later any way) - GH29926\u001b[39;00m\n\u001b[1;32m-> 5968\u001b[0m         \u001b[39mraise\u001b[39;00m InvalidIndexError(key)\n",
      "\u001b[1;31mInvalidIndexError\u001b[0m: (slice(None, None, None), 0)"
     ]
    }
   ],
   "source": [
    "# Data augmentation function using random noise for both features and target\n",
    "def augment_data(data_features,data_target, noise_level=0.1, num_samples=10):\n",
    "    augmented_data = []\n",
    "\n",
    "    for i in range(num_samples):\n",
    "        # Augment the features with random noise\n",
    "        augmented_features = data_features[['TopSpeed_KmH','Range_Km','FastCharge_KmH']] + np.random.normal(scale=noise_level, size=data_features.shape)\n",
    "\n",
    "        # Augment the target variable with random noise (optional)\n",
    "        augmented_target = data_target + np.random.normal(scale=noise_level, size=len(data_target))\n",
    "\n",
    "        # Combine augmented features and target into a single DataFrame\n",
    "        augmented_sample = pd.DataFrame({\n",
    "            'TopSpeed_KmH': augmented_features[:, 0],\n",
    "            'Range_Km': augmented_features[:, 1],\n",
    "            'FastCharge_KmH': augmented_features[:, 2],\n",
    "            'PriceEuro': augmented_target\n",
    "        })\n",
    "\n",
    "        augmented_data.append(augmented_sample)\n",
    "\n",
    "    return pd.concat(augmented_data, ignore_index=True)\n",
    "\n",
    "# Augment the entire dataset\n",
    "augmented_data = augment_data(X,y, noise_level=0.1, num_samples=10)\n",
    "\n",
    "print(augmented_data)"
   ]
  },
  {
   "cell_type": "code",
   "execution_count": 77,
   "metadata": {},
   "outputs": [
    {
     "data": {
      "text/plain": [
       "0      55480\n",
       "1      30000\n",
       "2      56440\n",
       "3      68040\n",
       "4      32997\n",
       "       ...  \n",
       "98     45000\n",
       "99     96050\n",
       "100    50000\n",
       "101    65000\n",
       "102    62000\n",
       "Name: PriceEuro, Length: 103, dtype: int64"
      ]
     },
     "execution_count": 77,
     "metadata": {},
     "output_type": "execute_result"
    }
   ],
   "source": [
    "y"
   ]
  },
  {
   "cell_type": "code",
   "execution_count": 64,
   "metadata": {},
   "outputs": [
    {
     "data": {
      "text/plain": [
       "103"
      ]
     },
     "execution_count": 64,
     "metadata": {},
     "output_type": "execute_result"
    }
   ],
   "source": [
    "augmented_data.__len__()\n",
    "\n",
    "y.__len__()"
   ]
  },
  {
   "cell_type": "code",
   "execution_count": 103,
   "metadata": {},
   "outputs": [
    {
     "data": {
      "text/plain": [
       "count       103.000000\n",
       "mean      55811.563107\n",
       "std       34134.665280\n",
       "min       20129.000000\n",
       "25%       34429.500000\n",
       "50%       45000.000000\n",
       "75%       65000.000000\n",
       "max      215000.000000\n",
       "Name: PriceEuro, dtype: float64"
      ]
     },
     "execution_count": 103,
     "metadata": {},
     "output_type": "execute_result"
    }
   ],
   "source": [
    "y.describe()"
   ]
  },
  {
   "cell_type": "code",
   "execution_count": 104,
   "metadata": {},
   "outputs": [
    {
     "data": {
      "text/plain": [
       "(103,)"
      ]
     },
     "execution_count": 104,
     "metadata": {},
     "output_type": "execute_result"
    }
   ],
   "source": [
    "y.shape"
   ]
  },
  {
   "cell_type": "code",
   "execution_count": 105,
   "metadata": {},
   "outputs": [],
   "source": [
    "data_needed=df[['TopSpeed_KmH','Range_Km','FastCharge_KmH','PriceEuro']]"
   ]
  },
  {
   "cell_type": "code",
   "execution_count": 106,
   "metadata": {},
   "outputs": [
    {
     "name": "stdout",
     "output_type": "stream",
     "text": [
      "     TopSpeed_KmH    Range_Km  FastCharge_KmH  PriceEuro\n",
      "0      237.180629  451.493968      938.613058      55480\n",
      "1      159.489261  268.493495      248.184320      30000\n",
      "2      205.377629  397.855733      619.698484      56440\n",
      "3      178.363359  355.666003      560.315174      68040\n",
      "4      143.560726  166.063291      190.809444      32997\n",
      "..            ...         ...             ...        ...\n",
      "98     158.012290  327.616512      442.310383      45000\n",
      "99     212.006850  332.762997      541.987676      96050\n",
      "100    200.658618  328.209565      440.452015      50000\n",
      "101    204.489678  373.156585      448.958769      65000\n",
      "102    189.396973  395.975116      475.871803      62000\n",
      "\n",
      "[103 rows x 4 columns]\n"
     ]
    }
   ],
   "source": [
    "# Define a function for adding random noise to the numerical features\n",
    "def add_random_noise(value, noise_range):\n",
    "    return value + np.random.uniform(noise_range[0], noise_range[1])\n",
    "\n",
    "# Data augmentation with random noise\n",
    "def data_augmentation_with_noise(dataset, noise_range=(-5, 5)):\n",
    "    augmented_data = []\n",
    "    for _, row in dataset.iterrows():\n",
    "        augmented_row = {\n",
    "            'TopSpeed_KmH': add_random_noise(row['TopSpeed_KmH'], noise_range),\n",
    "            'Range_Km': add_random_noise(row['Range_Km'], noise_range),\n",
    "            'FastCharge_KmH': add_random_noise(row['FastCharge_KmH'], noise_range),\n",
    "            'PriceEuro': row['PriceEuro'],  # Keep the target variable unchanged\n",
    "        }\n",
    "        augmented_data.append(augmented_row)\n",
    "\n",
    "    augmented_dataset = pd.DataFrame(augmented_data)\n",
    "    return augmented_dataset\n",
    "\n",
    "# Applying data augmentation with random noise\n",
    "augmented_dataset = data_augmentation_with_noise(data_needed, noise_range=(-5, 5))\n",
    "print(augmented_dataset)"
   ]
  },
  {
   "cell_type": "code",
   "execution_count": null,
   "metadata": {},
   "outputs": [],
   "source": []
  }
 ],
 "metadata": {
  "kernelspec": {
   "display_name": "Python 3",
   "language": "python",
   "name": "python3"
  },
  "language_info": {
   "codemirror_mode": {
    "name": "ipython",
    "version": 3
   },
   "file_extension": ".py",
   "mimetype": "text/x-python",
   "name": "python",
   "nbconvert_exporter": "python",
   "pygments_lexer": "ipython3",
   "version": "3.10.0"
  },
  "orig_nbformat": 4
 },
 "nbformat": 4,
 "nbformat_minor": 2
}
