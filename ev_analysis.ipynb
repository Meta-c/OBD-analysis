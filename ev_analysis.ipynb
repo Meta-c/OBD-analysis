{
 "cells": [
  {
   "cell_type": "code",
   "execution_count": 4,
   "metadata": {},
   "outputs": [],
   "source": [
    "import pandas as pd\n",
    "import numpy as np \n",
    "import matplotlib.pyplot as plt \n"
   ]
  },
  {
   "attachments": {},
   "cell_type": "markdown",
   "metadata": {},
   "source": [
    "## This is a dataset of electric vehicles.\n",
    "\n",
    "Some basic tasks would include\n",
    "\n",
    "* Which car has the fastest 0-100 acceleration?\n",
    "* Which has the highest efficiency?\n",
    "* Does a difference in power train effect the range, top speed, efficiency?\n",
    "* Which manufacturer has the most number of vehicles?\n",
    "* How does price relate to rapid charging?\n"
   ]
  },
  {
   "cell_type": "code",
   "execution_count": 5,
   "metadata": {},
   "outputs": [
    {
     "data": {
      "text/html": [
       "<div>\n",
       "<style scoped>\n",
       "    .dataframe tbody tr th:only-of-type {\n",
       "        vertical-align: middle;\n",
       "    }\n",
       "\n",
       "    .dataframe tbody tr th {\n",
       "        vertical-align: top;\n",
       "    }\n",
       "\n",
       "    .dataframe thead th {\n",
       "        text-align: right;\n",
       "    }\n",
       "</style>\n",
       "<table border=\"1\" class=\"dataframe\">\n",
       "  <thead>\n",
       "    <tr style=\"text-align: right;\">\n",
       "      <th></th>\n",
       "      <th>Brand</th>\n",
       "      <th>Model</th>\n",
       "      <th>AccelSec</th>\n",
       "      <th>TopSpeed_KmH</th>\n",
       "      <th>Range_Km</th>\n",
       "      <th>Efficiency_WhKm</th>\n",
       "      <th>FastCharge_KmH</th>\n",
       "      <th>RapidCharge</th>\n",
       "      <th>PowerTrain</th>\n",
       "      <th>PlugType</th>\n",
       "      <th>BodyStyle</th>\n",
       "      <th>Segment</th>\n",
       "      <th>Seats</th>\n",
       "      <th>PriceEuro</th>\n",
       "    </tr>\n",
       "  </thead>\n",
       "  <tbody>\n",
       "    <tr>\n",
       "      <th>0</th>\n",
       "      <td>Tesla</td>\n",
       "      <td>Model 3 Long Range Dual Motor</td>\n",
       "      <td>4.6</td>\n",
       "      <td>233</td>\n",
       "      <td>450</td>\n",
       "      <td>161</td>\n",
       "      <td>940</td>\n",
       "      <td>Yes</td>\n",
       "      <td>AWD</td>\n",
       "      <td>Type 2 CCS</td>\n",
       "      <td>Sedan</td>\n",
       "      <td>D</td>\n",
       "      <td>5</td>\n",
       "      <td>55480</td>\n",
       "    </tr>\n",
       "    <tr>\n",
       "      <th>1</th>\n",
       "      <td>Volkswagen</td>\n",
       "      <td>ID.3 Pure</td>\n",
       "      <td>10.0</td>\n",
       "      <td>160</td>\n",
       "      <td>270</td>\n",
       "      <td>167</td>\n",
       "      <td>250</td>\n",
       "      <td>Yes</td>\n",
       "      <td>RWD</td>\n",
       "      <td>Type 2 CCS</td>\n",
       "      <td>Hatchback</td>\n",
       "      <td>C</td>\n",
       "      <td>5</td>\n",
       "      <td>30000</td>\n",
       "    </tr>\n",
       "    <tr>\n",
       "      <th>2</th>\n",
       "      <td>Polestar</td>\n",
       "      <td>2</td>\n",
       "      <td>4.7</td>\n",
       "      <td>210</td>\n",
       "      <td>400</td>\n",
       "      <td>181</td>\n",
       "      <td>620</td>\n",
       "      <td>Yes</td>\n",
       "      <td>AWD</td>\n",
       "      <td>Type 2 CCS</td>\n",
       "      <td>Liftback</td>\n",
       "      <td>D</td>\n",
       "      <td>5</td>\n",
       "      <td>56440</td>\n",
       "    </tr>\n",
       "    <tr>\n",
       "      <th>3</th>\n",
       "      <td>BMW</td>\n",
       "      <td>iX3</td>\n",
       "      <td>6.8</td>\n",
       "      <td>180</td>\n",
       "      <td>360</td>\n",
       "      <td>206</td>\n",
       "      <td>560</td>\n",
       "      <td>Yes</td>\n",
       "      <td>RWD</td>\n",
       "      <td>Type 2 CCS</td>\n",
       "      <td>SUV</td>\n",
       "      <td>D</td>\n",
       "      <td>5</td>\n",
       "      <td>68040</td>\n",
       "    </tr>\n",
       "    <tr>\n",
       "      <th>4</th>\n",
       "      <td>Honda</td>\n",
       "      <td>e</td>\n",
       "      <td>9.5</td>\n",
       "      <td>145</td>\n",
       "      <td>170</td>\n",
       "      <td>168</td>\n",
       "      <td>190</td>\n",
       "      <td>Yes</td>\n",
       "      <td>RWD</td>\n",
       "      <td>Type 2 CCS</td>\n",
       "      <td>Hatchback</td>\n",
       "      <td>B</td>\n",
       "      <td>4</td>\n",
       "      <td>32997</td>\n",
       "    </tr>\n",
       "  </tbody>\n",
       "</table>\n",
       "</div>"
      ],
      "text/plain": [
       "         Brand                          Model  AccelSec  TopSpeed_KmH  \\\n",
       "0       Tesla   Model 3 Long Range Dual Motor       4.6           233   \n",
       "1  Volkswagen                       ID.3 Pure      10.0           160   \n",
       "2    Polestar                               2       4.7           210   \n",
       "3         BMW                            iX3        6.8           180   \n",
       "4       Honda                              e        9.5           145   \n",
       "\n",
       "   Range_Km  Efficiency_WhKm FastCharge_KmH RapidCharge PowerTrain  \\\n",
       "0       450              161            940         Yes        AWD   \n",
       "1       270              167            250         Yes        RWD   \n",
       "2       400              181            620         Yes        AWD   \n",
       "3       360              206            560         Yes        RWD   \n",
       "4       170              168            190         Yes        RWD   \n",
       "\n",
       "     PlugType  BodyStyle Segment  Seats  PriceEuro  \n",
       "0  Type 2 CCS      Sedan       D      5      55480  \n",
       "1  Type 2 CCS  Hatchback       C      5      30000  \n",
       "2  Type 2 CCS   Liftback       D      5      56440  \n",
       "3  Type 2 CCS        SUV       D      5      68040  \n",
       "4  Type 2 CCS  Hatchback       B      4      32997  "
      ]
     },
     "execution_count": 5,
     "metadata": {},
     "output_type": "execute_result"
    }
   ],
   "source": [
    "df = pd.read_csv(\"EV's/ElectricCarData_Clean.csv\")\n",
    "\n",
    "df.head()\n"
   ]
  },
  {
   "cell_type": "code",
   "execution_count": 6,
   "metadata": {},
   "outputs": [
    {
     "data": {
      "text/plain": [
       "Index(['Brand', 'Model', 'AccelSec', 'TopSpeed_KmH', 'Range_Km',\n",
       "       'Efficiency_WhKm', 'FastCharge_KmH', 'RapidCharge', 'PowerTrain',\n",
       "       'PlugType', 'BodyStyle', 'Segment', 'Seats', 'PriceEuro'],\n",
       "      dtype='object')"
      ]
     },
     "execution_count": 6,
     "metadata": {},
     "output_type": "execute_result"
    }
   ],
   "source": [
    "# Take a look on the features this dataset holds \n",
    "\n",
    "df.columns"
   ]
  },
  {
   "attachments": {},
   "cell_type": "markdown",
   "metadata": {},
   "source": [
    "# Quality Assesment "
   ]
  },
  {
   "cell_type": "code",
   "execution_count": 7,
   "metadata": {},
   "outputs": [
    {
     "name": "stdout",
     "output_type": "stream",
     "text": [
      "\n",
      "Missing Values Percentage:\n",
      "Brand              0.0\n",
      "Model              0.0\n",
      "AccelSec           0.0\n",
      "TopSpeed_KmH       0.0\n",
      "Range_Km           0.0\n",
      "Efficiency_WhKm    0.0\n",
      "FastCharge_KmH     0.0\n",
      "RapidCharge        0.0\n",
      "PowerTrain         0.0\n",
      "PlugType           0.0\n",
      "BodyStyle          0.0\n",
      "Segment            0.0\n",
      "Seats              0.0\n",
      "PriceEuro          0.0\n",
      "dtype: float64\n"
     ]
    }
   ],
   "source": [
    "# Data Completence\n",
    "\n",
    "# Check for missing values\n",
    "missing_values = df.isnull().sum()\n",
    "\n",
    "# Calculate the percentage of missing values for each column\n",
    "missing_percentage = (missing_values / len(df)) * 100\n",
    "\n",
    "# Print the missing values count and percentage for each column\n",
    "print(\"\\nMissing Values Percentage:\")\n",
    "print(missing_percentage)"
   ]
  },
  {
   "cell_type": "code",
   "execution_count": 8,
   "metadata": {},
   "outputs": [
    {
     "name": "stdout",
     "output_type": "stream",
     "text": [
      "Duplicate Rows Count: 0\n",
      "Inconsistent Columns: ['Brand', 'Model', 'AccelSec', 'TopSpeed_KmH', 'Range_Km', 'Efficiency_WhKm', 'FastCharge_KmH', 'RapidCharge', 'PowerTrain', 'PlugType', 'BodyStyle', 'Segment', 'Seats', 'PriceEuro']\n"
     ]
    }
   ],
   "source": [
    "# Check data conformity \n",
    "\n",
    "# Check for duplicate rows\n",
    "duplicate_rows = df.duplicated()\n",
    "duplicate_rows_count = duplicate_rows.sum()\n",
    "\n",
    "# Check for inconsistent values within columns\n",
    "inconsistent_values = []\n",
    "for column in df.columns:\n",
    "    unique_values = df[column].unique()\n",
    "    if len(unique_values) > 1:\n",
    "        inconsistent_values.append(column)\n",
    "\n",
    "# Print the results\n",
    "print(\"Duplicate Rows Count:\", duplicate_rows_count)\n",
    "print(\"Inconsistent Columns:\", inconsistent_values)"
   ]
  },
  {
   "cell_type": "code",
   "execution_count": null,
   "metadata": {},
   "outputs": [],
   "source": [
    "for column in df.columns:\n",
    "    dtype = df[column].dtype\n",
    "    unique_values = df[column].unique()\n",
    "    print(f\"The ({column}) column holding data of type ({dtype}) \\n and has values of ({unique_values})\")\n"
   ]
  },
  {
   "attachments": {},
   "cell_type": "markdown",
   "metadata": {},
   "source": [
    "### Observation \n",
    "\n",
    "We checked the Completence,Conformity,integrity and accuracy of the data.\n",
    "\n",
    "The data is very good quality wise and ready for analysis\n"
   ]
  },
  {
   "attachments": {},
   "cell_type": "markdown",
   "metadata": {},
   "source": [
    "# Analysis and answering questions \n",
    "\n",
    "Now that we have the data ready we can start answering the questions we need from the dataset"
   ]
  },
  {
   "cell_type": "markdown",
   "metadata": {},
   "source": [
    "## #1 What is the fastest acceleration from 0-100 "
   ]
  },
  {
   "cell_type": "code",
   "execution_count": 10,
   "metadata": {},
   "outputs": [
    {
     "name": "stdout",
     "output_type": "stream",
     "text": [
      "fastest car ('Renault ', 'Kangoo Maxi ZE 33') it's acceleration 22.4\n"
     ]
    }
   ],
   "source": [
    "\n",
    "# Initialize variable to store fastest acceleration \n",
    "fastest_acceleration = float(0)\n",
    "\n",
    "# Initialize variable to store fastest car name\n",
    "fastest_brand=''\n",
    "fastest_model= ''\n",
    "\n",
    "index=0\n",
    "\n",
    "for accele in df['AccelSec']:\n",
    "        if accele and float(accele) > fastest_acceleration:\n",
    "            fastest_acceleration = float(accele)\n",
    "            car_model = df['Model'][index]\n",
    "            car_brand = df['Brand'][index]\n",
    "        index+=1    \n",
    "\n",
    "print(f\"fastest car {car_brand, car_model} it's acceleration {fastest_acceleration}\")            "
   ]
  },
  {
   "cell_type": "markdown",
   "metadata": {},
   "source": [
    "## # 2 Which has the highest efficiency?"
   ]
  },
  {
   "cell_type": "code",
   "execution_count": 11,
   "metadata": {},
   "outputs": [
    {
     "name": "stdout",
     "output_type": "stream",
     "text": [
      "The car with the highest efficiency is: Mercedes  EQV 300 Long with efficiency of : 273.0 Wh/km\n"
     ]
    }
   ],
   "source": [
    "\n",
    "highest_efficiency = 0\n",
    "car_model = \"\"\n",
    "car_brand=\" \"\n",
    "\n",
    "\n",
    "index=0\n",
    "for car in df.index:\n",
    "    efficiency_whkm = df['Efficiency_WhKm'][car]\n",
    "    if efficiency_whkm and float(efficiency_whkm) > highest_efficiency:\n",
    "        highest_efficiency = float(efficiency_whkm)\n",
    "        car_model = df['Model'][car]\n",
    "        car_brand= df['Brand'][car]\n",
    "       \n",
    "\n",
    "\n",
    "print(\"The car with the highest efficiency is:\",car_brand, car_model,\"with efficiency of :\", highest_efficiency ,\"Wh/km\")        "
   ]
  },
  {
   "cell_type": "markdown",
   "metadata": {},
   "source": [
    "## #3  Does a difference in power train effect the range, top speed, efficiency?"
   ]
  },
  {
   "cell_type": "code",
   "execution_count": 12,
   "metadata": {},
   "outputs": [
    {
     "data": {
      "text/plain": [
       "array(['AWD', 'RWD', 'FWD'], dtype=object)"
      ]
     },
     "execution_count": 12,
     "metadata": {},
     "output_type": "execute_result"
    }
   ],
   "source": [
    "\n",
    "# First let's look at the power train values \n",
    "df['PowerTrain'].unique()"
   ]
  },
  {
   "cell_type": "markdown",
   "metadata": {},
   "source": [
    "### so there are three types of powerTrain (`AWD`-`RWD`-`FWD`)"
   ]
  },
  {
   "cell_type": "code",
   "execution_count": 35,
   "metadata": {},
   "outputs": [
    {
     "data": {
      "image/png": "[encoded data removed]",
      "text/plain": [
       "<Figure size 640x480 with 1 Axes>"
      ]
     },
     "metadata": {},
     "output_type": "display_data"
    },
    {
     "data": {
      "image/png": "[encoded data removed]",
      "text/plain": [
       "<Figure size 640x480 with 1 Axes>"
      ]
     },
     "metadata": {},
     "output_type": "display_data"
    },
    {
     "data": {
      "image/png": "[encoded data removed]",
      "text/plain": [
       "<Figure size 640x480 with 1 Axes>"
      ]
     },
     "metadata": {},
     "output_type": "display_data"
    }
   ],
   "source": [
    "# Create a scatter plot\n",
    "\n",
    "plt.scatter(df['PowerTrain'], df['TopSpeed_KmH'])\n",
    "\n",
    "# Add labels and title\n",
    "plt.xlabel(\"Power Train\")\n",
    "plt.ylabel(\"Top Speed\")\n",
    "plt.title(\"Power Train vs. Top Speed\")\n",
    "\n",
    "# Adjust spacing between plots\n",
    "plt.tight_layout()\n",
    "\n",
    "# Show the plot\n",
    "plt.show()\n",
    "\n",
    "\n",
    "# Create a scatter plot\n",
    "plt.scatter(df['PowerTrain'], df['Range_Km'])\n",
    "\n",
    "# Add labels and title\n",
    "plt.xlabel(\"Power Train\")\n",
    "plt.ylabel(\"Range\")\n",
    "plt.title(\"Power Train vs. Range\")\n",
    "\n",
    "# Adjust spacing between plots\n",
    "plt.tight_layout()\n",
    "\n",
    "# Show the plot\n",
    "plt.show()\n",
    "\n",
    "\n",
    "\n",
    "# Create a scatter plot\n",
    "plt.scatter(df['PowerTrain'], df['Efficiency_WhKm'])\n",
    " \n",
    " \n",
    "# Add labels and title\n",
    "plt.xlabel(\"Power Train\")\n",
    "plt.ylabel(\"Efficiency\")\n",
    "plt.title(\"Power Train vs. Efficiency\")\n",
    "\n",
    "\n",
    "# Adjust spacing between plots\n",
    "plt.tight_layout()\n",
    "\n",
    "# Show the plot\n",
    "plt.show()"
   ]
  },
  {
   "cell_type": "code",
   "execution_count": 26,
   "metadata": {},
   "outputs": [
    {
     "name": "stdout",
     "output_type": "stream",
     "text": [
      "Average top speed on AWD is : 216.90243902439025 \n",
      " Average top speed on RWD is : 162.4 \n",
      " Average top speed on FWD is : 148.75675675675674 \n",
      "\n"
     ]
    }
   ],
   "source": [
    "# We can calculate the mean average of each to compare as well\n",
    "\n",
    "awd_speed_sum= df[df['PowerTrain']==\"AWD\"]['TopSpeed_KmH'].sum()\n",
    "rwd_speed_sum= df[df['PowerTrain']==\"RWD\"]['TopSpeed_KmH'].sum()\n",
    "fwd_speed_sum= df[df['PowerTrain']==\"FWD\"]['TopSpeed_KmH'].sum()\n",
    "\n",
    "awd_speed_count= df[df['PowerTrain']==\"AWD\"]['TopSpeed_KmH'].count()\n",
    "rwd_speed_count= df[df['PowerTrain']==\"RWD\"]['TopSpeed_KmH'].count()\n",
    "fwd_speed_count= df[df['PowerTrain']==\"FWD\"]['TopSpeed_KmH'].count()\n",
    "\n",
    "\n",
    "avg_speed_awd= awd_speed_sum/awd_speed_count\n",
    "avg_speed_rwd= rwd_speed_sum/rwd_speed_count\n",
    "avg_speed_fwd= fwd_speed_sum/fwd_speed_count\n",
    "\n",
    "print(f\"Average top speed on AWD is : {avg_speed_awd} \\n Average top speed on RWD is : {avg_speed_rwd} \\n Average top speed on FWD is : {avg_speed_fwd} \\n\")"
   ]
  },
  {
   "cell_type": "markdown",
   "metadata": {},
   "source": [
    "### Observation \n",
    "\n",
    "The difference in power train affects the top speed of the car"
   ]
  },
  {
   "cell_type": "code",
   "execution_count": 28,
   "metadata": {},
   "outputs": [
    {
     "name": "stdout",
     "output_type": "stream",
     "text": [
      "Average range on AWD is : 426.4634146341463 \n",
      " Average range on RWD is : 299.4 \n",
      " Average range on FWD is : 268.2432432432432 \n",
      "\n"
     ]
    }
   ],
   "source": [
    "# now let's see if it affects Range the car can travel in a full charge\n",
    "\n",
    "awd_range_sum= df[df['PowerTrain']==\"AWD\"]['Range_Km'].sum()\n",
    "rwd_range_sum= df[df['PowerTrain']==\"RWD\"]['Range_Km'].sum()\n",
    "fwd_range_sum= df[df['PowerTrain']==\"FWD\"]['Range_Km'].sum()\n",
    "\n",
    "awd_range_count= df[df['PowerTrain']==\"AWD\"]['Range_Km'].count()\n",
    "rwd_range_count= df[df['PowerTrain']==\"RWD\"]['Range_Km'].count()\n",
    "fwd_range_count= df[df['PowerTrain']==\"FWD\"]['Range_Km'].count()\n",
    "\n",
    "\n",
    "avg_range_awd= awd_range_sum/awd_range_count\n",
    "avg_range_rwd= rwd_range_sum/rwd_range_count\n",
    "avg_range_fwd= fwd_range_sum/fwd_range_count\n",
    "\n",
    "print(f\"Average range on AWD is : {avg_range_awd} \\n Average range on RWD is : {avg_range_rwd} \\n Average range on FWD is : {avg_range_fwd} \\n\")"
   ]
  },
  {
   "cell_type": "markdown",
   "metadata": {},
   "source": [
    "### Observation \n",
    "\n",
    "The AWD power train is very different and distinct from the RWD and FWD range wise, while RWD and FWD are very close "
   ]
  },
  {
   "cell_type": "code",
   "execution_count": 29,
   "metadata": {},
   "outputs": [
    {
     "name": "stdout",
     "output_type": "stream",
     "text": [
      "Average Effeciency on AWD is : 206.7560975609756 \n",
      " Average Effeciency on RWD is : 180.44 \n",
      " Average Effeciency on FWD is : 175.56756756756758 \n",
      "\n"
     ]
    }
   ],
   "source": [
    "# now let's see if it affects Effeciency of the car\n",
    "\n",
    "awd_eff_sum= df[df['PowerTrain']==\"AWD\"]['Efficiency_WhKm'].sum()\n",
    "rwd_eff_sum= df[df['PowerTrain']==\"RWD\"]['Efficiency_WhKm'].sum()\n",
    "fwd_eff_sum= df[df['PowerTrain']==\"FWD\"]['Efficiency_WhKm'].sum()\n",
    "\n",
    "awd_eff_count= df[df['PowerTrain']==\"AWD\"]['Efficiency_WhKm'].count()\n",
    "rwd_eff_count= df[df['PowerTrain']==\"RWD\"]['Efficiency_WhKm'].count()\n",
    "fwd_eff_count= df[df['PowerTrain']==\"FWD\"]['Efficiency_WhKm'].count()\n",
    "\n",
    "\n",
    "avg_eff_awd= awd_eff_sum/awd_eff_count\n",
    "avg_eff_rwd= rwd_eff_sum/rwd_eff_count\n",
    "avg_eff_fwd= fwd_eff_sum/fwd_eff_count\n",
    "\n",
    "print(f\"Average Effeciency on AWD is : {avg_eff_awd} \\n Average Effeciency on RWD is : {avg_eff_rwd} \\n Average Effeciency on FWD is : {avg_eff_fwd} \\n\")"
   ]
  },
  {
   "cell_type": "markdown",
   "metadata": {},
   "source": [
    "### Observation \n",
    "\n",
    "We see once more that AWD power train is a bit different and distinct from the RWD and FWD , while RWD and FWD are very close "
   ]
  },
  {
   "cell_type": "markdown",
   "metadata": {},
   "source": [
    "## #4 Which manufacturer has the most number of vehicles?"
   ]
  },
  {
   "cell_type": "code",
   "execution_count": 62,
   "metadata": {},
   "outputs": [
    {
     "data": {
      "text/plain": [
       "'Peugeot '"
      ]
     },
     "execution_count": 62,
     "metadata": {},
     "output_type": "execute_result"
    }
   ],
   "source": [
    "brands=df['Brand'].unique()\n",
    "brands[6]"
   ]
  },
  {
   "cell_type": "code",
   "execution_count": 63,
   "metadata": {},
   "outputs": [
    {
     "data": {
      "text/plain": [
       "2"
      ]
     },
     "execution_count": 63,
     "metadata": {},
     "output_type": "execute_result"
    }
   ],
   "source": [
    "sum=df[df['Brand']==brands[6]].__len__()\n",
    "sum"
   ]
  },
  {
   "cell_type": "code",
   "execution_count": 66,
   "metadata": {},
   "outputs": [
    {
     "name": "stdout",
     "output_type": "stream",
     "text": [
      "The manufacturer with the most number of vehicles is : Tesla  with 13 cars out of 103 from 33 manufacturer\n"
     ]
    }
   ],
   "source": [
    "# We can use a for loop to find the answer \n",
    "\n",
    "most_cars=0\n",
    "highest_brand=''\n",
    "\n",
    "for brand in df['Brand'].unique():\n",
    "    sum = df[df['Brand']==brand].__len__()\n",
    "    if sum > most_cars:\n",
    "        most_cars=sum\n",
    "        highest_brand=brand\n",
    "        \n",
    "print(f\"The manufacturer with the most number of vehicles is : {highest_brand} with {most_cars} cars out of {df.__len__()} from {df['Brand'].unique().__len__()} manufacturer\")        "
   ]
  },
  {
   "cell_type": "markdown",
   "metadata": {},
   "source": [
    "## #5 How does price relate to rapid charging?"
   ]
  },
  {
   "cell_type": "code",
   "execution_count": 88,
   "metadata": {},
   "outputs": [
    {
     "data": {
      "image/png": "[encoded data removed]",
      "text/plain": [
       "<Figure size 640x480 with 1 Axes>"
      ]
     },
     "metadata": {},
     "output_type": "display_data"
    }
   ],
   "source": [
    "plt.scatter(df['PriceEuro'],df['RapidCharge'])\n",
    "\n",
    "# Add labels and title\n",
    "plt.xlabel(\"Price\")\n",
    "plt.ylabel(\"Rapid Charge\")\n",
    "plt.title(\"Price vs. Rapid charge\")\n",
    "\n",
    "# Adjust spacing between plots\n",
    "plt.tight_layout()\n",
    "\n",
    "# Show the plot\n",
    "plt.show()"
   ]
  },
  {
   "cell_type": "code",
   "execution_count": 84,
   "metadata": {},
   "outputs": [],
   "source": [
    "no_rapid_charge= df[df['RapidCharge']==\"No\"]\n",
    "\n",
    "no_prices= no_rapid_charge['PriceEuro']"
   ]
  },
  {
   "cell_type": "code",
   "execution_count": 82,
   "metadata": {},
   "outputs": [],
   "source": [
    "yes_rapid_charge = df[df['RapidCharge']==\"Yes\"]\n",
    "\n",
    "yes_prices= yes_rapid_charge['PriceEuro']"
   ]
  },
  {
   "cell_type": "code",
   "execution_count": 85,
   "metadata": {},
   "outputs": [
    {
     "data": {
      "text/plain": [
       "21387"
      ]
     },
     "execution_count": 85,
     "metadata": {},
     "output_type": "execute_result"
    }
   ],
   "source": [
    "no_prices.min()"
   ]
  },
  {
   "cell_type": "code",
   "execution_count": 83,
   "metadata": {},
   "outputs": [
    {
     "data": {
      "text/plain": [
       "20129"
      ]
     },
     "execution_count": 83,
     "metadata": {},
     "output_type": "execute_result"
    }
   ],
   "source": [
    "yes_prices.min()"
   ]
  },
  {
   "cell_type": "markdown",
   "metadata": {},
   "source": [
    "## Observation \n",
    "\n",
    "The price is not certainly a factor for the car to have a rapid charge or not, `BUT` of course it also depends on many factors such as *brand*, *Effeciency*,*Powertrain* etc.."
   ]
  }
 ],
 "metadata": {
  "kernelspec": {
   "display_name": "Python 3",
   "language": "python",
   "name": "python3"
  },
  "language_info": {
   "codemirror_mode": {
    "name": "ipython",
    "version": 3
   },
   "file_extension": ".py",
   "mimetype": "text/x-python",
   "name": "python",
   "nbconvert_exporter": "python",
   "pygments_lexer": "ipython3",
   "version": "3.10.0"
  },
  "orig_nbformat": 4
 },
 "nbformat": 4,
 "nbformat_minor": 2
}
